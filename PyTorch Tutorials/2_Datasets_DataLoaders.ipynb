{
 "cells": [
  {
   "cell_type": "code",
   "execution_count": null,
   "metadata": {},
   "outputs": [],
   "source": []
  },
  {
   "cell_type": "markdown",
   "metadata": {},
   "source": [
    "# DATASETS & DATALOADERS\n",
    "\n",
    "데이터 샘플을 처리하는 코드는 지저분하고 유지 관리하기 어려울 수 있음\n",
    "데이터 세트 코드를 모델 교육 코드와 분리하여 가독성과 모듈화를 개선하는 것이 이상적\n",
    "\n",
    "PyTorch는 두 가지 데이터 프리미티브를 제공, torch.utils.data.DataLoader 그리고 torch.utils.data.Dataset \n",
    "미리 로드된 데이터 세트는 물론 자신의 데이터도 사용할 수 있음\n",
    "Dataset은 샘플 및 해당 라벨을 저장하고, \n",
    "DataLoader wraps an iterable around the Dataset to enable easy access to the samples\n",
    "DataLoader는 샘플에 쉽게 액세스할 수 있도록 데이터 세트 주위에 반복 가능한 항목을 래핑\n",
    "*번역할때 wraps an iterable -> 반복 가능한 항목 래핑 맞는지?\n",
    "\n",
    "PyTorch 도메인 라이브러리는 하위 클래스의 여러 사전 로드된 데이터 세트(예: FashionMNIST)를 제공 : torch.utils.data.Dataset \n",
    "특정 데이터에 특정한 기능을 구현 - 모델을 프로토타입하고 벤치마킹하는 데 사용할 수 있음"
   ]
  },
  {
   "cell_type": "markdown",
   "metadata": {},
   "source": [
    "### Loading a Dataset\n",
    "\n",
    "다음은 TorchVision에서 Fashion-MNIST 데이터 세트를 로드하는 방법의 예시 \n",
    "Fashion-MNIST는 Zalando의 기사 이미지를 60,000개의 훈련 예제와 10,000개의 테스트 예제로 구성된 데이터 세트\n",
    "각 예제는 28×28 그레이스케일 이미지와 10개 클래스 중 하나의 관련 레이블로 구성됨\n",
    "\n",
    "FashionMNIST 데이터 세트를 다음 파라미터로 로드\n",
    "- root 는 열차/시험 데이터가 저장되는 경로\n",
    "- train 교육 또는 테스트 데이터 세트를 지정\n",
    "- download=True 는 인터넷에서 다운로드함 : root에서 가능하지 않은 경우에\n",
    "*papago번역기가 이상해서 직접 번역하기로 함\n",
    "- transform과 target_transform 형상 및 레이블 변환을 지정"
   ]
  },
  {
   "cell_type": "code",
   "execution_count": 2,
   "metadata": {},
   "outputs": [
    {
     "name": "stdout",
     "output_type": "stream",
     "text": [
      "Collecting matplotlib\n",
      "  Downloading matplotlib-3.8.2-cp310-cp310-win_amd64.whl.metadata (5.9 kB)\n",
      "Collecting contourpy>=1.0.1 (from matplotlib)\n",
      "  Downloading contourpy-1.2.0-cp310-cp310-win_amd64.whl.metadata (5.8 kB)\n",
      "Collecting cycler>=0.10 (from matplotlib)\n",
      "  Downloading cycler-0.12.1-py3-none-any.whl.metadata (3.8 kB)\n",
      "Collecting fonttools>=4.22.0 (from matplotlib)\n",
      "  Downloading fonttools-4.47.0-cp310-cp310-win_amd64.whl.metadata (160 kB)\n",
      "     ---------------------------------------- 0.0/160.4 kB ? eta -:--:--\n",
      "     ------------------------------------- 160.4/160.4 kB 10.0 MB/s eta 0:00:00\n",
      "Collecting kiwisolver>=1.3.1 (from matplotlib)\n",
      "  Downloading kiwisolver-1.4.5-cp310-cp310-win_amd64.whl.metadata (6.5 kB)\n",
      "Requirement already satisfied: numpy<2,>=1.21 in c:\\python310\\lib\\site-packages (from matplotlib) (1.26.2)\n",
      "Requirement already satisfied: packaging>=20.0 in c:\\python310\\lib\\site-packages (from matplotlib) (23.2)\n",
      "Requirement already satisfied: pillow>=8 in c:\\python310\\lib\\site-packages (from matplotlib) (9.0.1)\n",
      "Collecting pyparsing>=2.3.1 (from matplotlib)\n",
      "  Downloading pyparsing-3.1.1-py3-none-any.whl.metadata (5.1 kB)\n",
      "Requirement already satisfied: python-dateutil>=2.7 in c:\\python310\\lib\\site-packages (from matplotlib) (2.8.2)\n",
      "Requirement already satisfied: six>=1.5 in c:\\python310\\lib\\site-packages (from python-dateutil>=2.7->matplotlib) (1.16.0)\n",
      "Downloading matplotlib-3.8.2-cp310-cp310-win_amd64.whl (7.6 MB)\n",
      "   ---------------------------------------- 0.0/7.6 MB ? eta -:--:--\n",
      "   --- ------------------------------------ 0.7/7.6 MB 21.1 MB/s eta 0:00:01\n",
      "   ------- -------------------------------- 1.4/7.6 MB 18.0 MB/s eta 0:00:01\n",
      "   --------- ------------------------------ 1.8/7.6 MB 14.6 MB/s eta 0:00:01\n",
      "   ------------- -------------------------- 2.6/7.6 MB 15.2 MB/s eta 0:00:01\n",
      "   ------------------ --------------------- 3.5/7.6 MB 13.8 MB/s eta 0:00:01\n",
      "   ------------------- -------------------- 3.7/7.6 MB 13.0 MB/s eta 0:00:01\n",
      "   ------------------- -------------------- 3.8/7.6 MB 11.5 MB/s eta 0:00:01\n",
      "   -------------------- ------------------- 3.9/7.6 MB 10.3 MB/s eta 0:00:01\n",
      "   --------------------- ------------------ 4.1/7.6 MB 9.2 MB/s eta 0:00:01\n",
      "   --------------------- ------------------ 4.1/7.6 MB 9.2 MB/s eta 0:00:01\n",
      "   --------------------- ------------------ 4.1/7.6 MB 9.2 MB/s eta 0:00:01\n",
      "   ------------------------ --------------- 4.8/7.6 MB 8.2 MB/s eta 0:00:01\n",
      "   ------------------------- -------------- 4.9/7.6 MB 7.9 MB/s eta 0:00:01\n",
      "   ------------------------- -------------- 4.9/7.6 MB 7.9 MB/s eta 0:00:01\n",
      "   ------------------------- -------------- 4.9/7.6 MB 7.9 MB/s eta 0:00:01\n",
      "   ---------------------------- ----------- 5.4/7.6 MB 7.0 MB/s eta 0:00:01\n",
      "   ---------------------------- ----------- 5.4/7.6 MB 7.0 MB/s eta 0:00:01\n",
      "   ------------------------------ --------- 5.8/7.6 MB 6.7 MB/s eta 0:00:01\n",
      "   ------------------------------- -------- 5.9/7.6 MB 6.6 MB/s eta 0:00:01\n",
      "   -------------------------------- ------- 6.1/7.6 MB 6.3 MB/s eta 0:00:01\n",
      "   --------------------------------- ------ 6.3/7.6 MB 6.1 MB/s eta 0:00:01\n",
      "   ---------------------------------- ----- 6.5/7.6 MB 6.0 MB/s eta 0:00:01\n",
      "   ---------------------------------- ----- 6.7/7.6 MB 6.0 MB/s eta 0:00:01\n",
      "   ----------------------------------- ---- 6.9/7.6 MB 5.9 MB/s eta 0:00:01\n",
      "   ------------------------------------ --- 7.0/7.6 MB 5.7 MB/s eta 0:00:01\n",
      "   ------------------------------------- -- 7.2/7.6 MB 5.7 MB/s eta 0:00:01\n",
      "   -------------------------------------- - 7.4/7.6 MB 5.6 MB/s eta 0:00:01\n",
      "   ---------------------------------------  7.5/7.6 MB 5.5 MB/s eta 0:00:01\n",
      "   ---------------------------------------  7.6/7.6 MB 5.5 MB/s eta 0:00:01\n",
      "   ---------------------------------------- 7.6/7.6 MB 5.4 MB/s eta 0:00:00\n",
      "Downloading contourpy-1.2.0-cp310-cp310-win_amd64.whl (186 kB)\n",
      "   ---------------------------------------- 0.0/186.7 kB ? eta -:--:--\n",
      "   ---------------------------------------  184.3/186.7 kB 3.7 MB/s eta 0:00:01\n",
      "   ---------------------------------------- 186.7/186.7 kB 2.8 MB/s eta 0:00:00\n",
      "Downloading cycler-0.12.1-py3-none-any.whl (8.3 kB)\n",
      "Downloading fonttools-4.47.0-cp310-cp310-win_amd64.whl (2.2 MB)\n",
      "   ---------------------------------------- 0.0/2.2 MB ? eta -:--:--\n",
      "   -- ------------------------------------- 0.1/2.2 MB 3.6 MB/s eta 0:00:01\n",
      "   ----- ---------------------------------- 0.3/2.2 MB 3.4 MB/s eta 0:00:01\n",
      "   -------- ------------------------------- 0.4/2.2 MB 3.9 MB/s eta 0:00:01\n",
      "   ---------- ----------------------------- 0.6/2.2 MB 4.0 MB/s eta 0:00:01\n",
      "   ------------ --------------------------- 0.7/2.2 MB 3.4 MB/s eta 0:00:01\n",
      "   --------------- ------------------------ 0.8/2.2 MB 3.5 MB/s eta 0:00:01\n",
      "   ------------------ --------------------- 1.0/2.2 MB 3.6 MB/s eta 0:00:01\n",
      "   --------------------- ------------------ 1.2/2.2 MB 3.6 MB/s eta 0:00:01\n",
      "   ------------------------- -------------- 1.4/2.2 MB 3.7 MB/s eta 0:00:01\n",
      "   ---------------------------- ----------- 1.6/2.2 MB 3.7 MB/s eta 0:00:01\n",
      "   ------------------------------- -------- 1.7/2.2 MB 3.6 MB/s eta 0:00:01\n",
      "   ----------------------------------- ---- 1.9/2.2 MB 3.5 MB/s eta 0:00:01\n",
      "   -------------------------------------- - 2.1/2.2 MB 3.6 MB/s eta 0:00:01\n",
      "   ---------------------------------------- 2.2/2.2 MB 3.5 MB/s eta 0:00:00\n",
      "Downloading kiwisolver-1.4.5-cp310-cp310-win_amd64.whl (56 kB)\n",
      "   ---------------------------------------- 0.0/56.1 kB ? eta -:--:--\n",
      "   ---------------------------------------- 56.1/56.1 kB 2.9 MB/s eta 0:00:00\n",
      "Downloading pyparsing-3.1.1-py3-none-any.whl (103 kB)\n",
      "   ---------------------------------------- 0.0/103.1 kB ? eta -:--:--\n",
      "   ---------------------------------------- 103.1/103.1 kB 3.0 MB/s eta 0:00:00\n",
      "Installing collected packages: pyparsing, kiwisolver, fonttools, cycler, contourpy, matplotlib\n",
      "Successfully installed contourpy-1.2.0 cycler-0.12.1 fonttools-4.47.0 kiwisolver-1.4.5 matplotlib-3.8.2 pyparsing-3.1.1\n"
     ]
    }
   ],
   "source": [
    "!pip install matplotlib"
   ]
  },
  {
   "cell_type": "code",
   "execution_count": 3,
   "metadata": {},
   "outputs": [
    {
     "name": "stdout",
     "output_type": "stream",
     "text": [
      "Downloading http://fashion-mnist.s3-website.eu-central-1.amazonaws.com/train-images-idx3-ubyte.gz\n",
      "Downloading http://fashion-mnist.s3-website.eu-central-1.amazonaws.com/train-images-idx3-ubyte.gz to data\\FashionMNIST\\raw\\train-images-idx3-ubyte.gz\n"
     ]
    },
    {
     "name": "stderr",
     "output_type": "stream",
     "text": [
      "100.0%\n"
     ]
    },
    {
     "name": "stdout",
     "output_type": "stream",
     "text": [
      "Extracting data\\FashionMNIST\\raw\\train-images-idx3-ubyte.gz to data\\FashionMNIST\\raw\n",
      "\n",
      "Downloading http://fashion-mnist.s3-website.eu-central-1.amazonaws.com/train-labels-idx1-ubyte.gz\n",
      "Downloading http://fashion-mnist.s3-website.eu-central-1.amazonaws.com/train-labels-idx1-ubyte.gz to data\\FashionMNIST\\raw\\train-labels-idx1-ubyte.gz\n"
     ]
    },
    {
     "name": "stderr",
     "output_type": "stream",
     "text": [
      "100.0%\n"
     ]
    },
    {
     "name": "stdout",
     "output_type": "stream",
     "text": [
      "Extracting data\\FashionMNIST\\raw\\train-labels-idx1-ubyte.gz to data\\FashionMNIST\\raw\n",
      "\n",
      "Downloading http://fashion-mnist.s3-website.eu-central-1.amazonaws.com/t10k-images-idx3-ubyte.gz\n",
      "Downloading http://fashion-mnist.s3-website.eu-central-1.amazonaws.com/t10k-images-idx3-ubyte.gz to data\\FashionMNIST\\raw\\t10k-images-idx3-ubyte.gz\n"
     ]
    },
    {
     "name": "stderr",
     "output_type": "stream",
     "text": [
      "100.0%\n"
     ]
    },
    {
     "name": "stdout",
     "output_type": "stream",
     "text": [
      "Extracting data\\FashionMNIST\\raw\\t10k-images-idx3-ubyte.gz to data\\FashionMNIST\\raw\n",
      "\n",
      "Downloading http://fashion-mnist.s3-website.eu-central-1.amazonaws.com/t10k-labels-idx1-ubyte.gz\n",
      "Downloading http://fashion-mnist.s3-website.eu-central-1.amazonaws.com/t10k-labels-idx1-ubyte.gz to data\\FashionMNIST\\raw\\t10k-labels-idx1-ubyte.gz\n"
     ]
    },
    {
     "name": "stderr",
     "output_type": "stream",
     "text": [
      "100.0%"
     ]
    },
    {
     "name": "stdout",
     "output_type": "stream",
     "text": [
      "Extracting data\\FashionMNIST\\raw\\t10k-labels-idx1-ubyte.gz to data\\FashionMNIST\\raw\n",
      "\n"
     ]
    },
    {
     "name": "stderr",
     "output_type": "stream",
     "text": [
      "\n"
     ]
    }
   ],
   "source": [
    "import torch\n",
    "from torch.utils.data import Dataset\n",
    "from torchvision import datasets\n",
    "from torchvision.transforms import ToTensor\n",
    "import matplotlib.pyplot as plt\n",
    "\n",
    "\n",
    "training_data = datasets.FashionMNIST(\n",
    "    root=\"data\",\n",
    "    train=True,\n",
    "    download=True,\n",
    "    transform=ToTensor()\n",
    ")\n",
    "\n",
    "test_data = datasets.FashionMNIST(\n",
    "    root=\"data\",\n",
    "    train=False,\n",
    "    download=True,\n",
    "    transform=ToTensor()\n",
    ")"
   ]
  },
  {
   "cell_type": "markdown",
   "metadata": {},
   "source": [
    "### Iterating and Visualizing the Dataset\n",
    "\n",
    "We can index Datasets manually like a list: training_data[index]. \n",
    "training_data[index]를 통해 데이터셋을 직접적으로 인덱스할 수 있음\n",
    "\n",
    "We use matplotlib to visualize some samples in our training data."
   ]
  },
  {
   "cell_type": "code",
   "execution_count": 4,
   "metadata": {},
   "outputs": [
    {
     "data": {
      "image/png": "[encoded data removed]",
      "text/plain": [
       "<Figure size 800x800 with 9 Axes>"
      ]
     },
     "metadata": {},
     "output_type": "display_data"
    }
   ],
   "source": [
    "labels_map = {\n",
    "    0: \"T-Shirt\",\n",
    "    1: \"Trouser\",\n",
    "    2: \"Pullover\",\n",
    "    3: \"Dress\",\n",
    "    4: \"Coat\",\n",
    "    5: \"Sandal\",\n",
    "    6: \"Shirt\",\n",
    "    7: \"Sneaker\",\n",
    "    8: \"Bag\",\n",
    "    9: \"Ankle Boot\",\n",
    "}\n",
    "figure = plt.figure(figsize=(8, 8))\n",
    "cols, rows = 3, 3\n",
    "for i in range(1, cols * rows + 1):\n",
    "    sample_idx = torch.randint(len(training_data), size=(1,)).item()\n",
    "    img, label = training_data[sample_idx]\n",
    "    figure.add_subplot(rows, cols, i)\n",
    "    plt.title(labels_map[label])\n",
    "    plt.axis(\"off\")\n",
    "    plt.imshow(img.squeeze(), cmap=\"gray\")\n",
    "plt.show()"
   ]
  },
  {
   "cell_type": "markdown",
   "metadata": {},
   "source": [
    "### Creating a Custom Dataset for your files\n",
    "\n",
    "A custom Dataset class must implement three functions: __init__, __len__, and __getitem__. \n",
    "Take a look at this implementation; \n",
    "the FashionMNIST images are stored in a directory img_dir, \n",
    "and their labels are stored separately in a CSV file annotations_file.\n",
    "\n",
    "In the next sections, we’ll break down what’s happening in each of these functions.\n",
    "break down : (분석할 수 있도록) 나누어지다\n",
    "각 함수에서 어떤 일이 일어나는지 나누어서 분석하겠다는 뜻\n",
    "이외에 고장나다, 실패하다, 나빠지다, 감정을 주체하지 못하다 라는 뜻도 있음"
   ]
  },
  {
   "cell_type": "code",
   "execution_count": 5,
   "metadata": {},
   "outputs": [],
   "source": [
    "import os\n",
    "import pandas as pd\n",
    "from torchvision.io import read_image\n",
    "\n",
    "class CustomImageDataset(Dataset):\n",
    "    def __init__(self, annotations_file, img_dir, transform=None, target_transform=None):\n",
    "        self.img_labels = pd.read_csv(annotations_file)\n",
    "        self.img_dir = img_dir\n",
    "        self.transform = transform\n",
    "        self.target_transform = target_transform\n",
    "\n",
    "    def __len__(self):\n",
    "        return len(self.img_labels)\n",
    "\n",
    "    def __getitem__(self, idx):\n",
    "        img_path = os.path.join(self.img_dir, self.img_labels.iloc[idx, 0])\n",
    "        image = read_image(img_path)\n",
    "        label = self.img_labels.iloc[idx, 1]\n",
    "        if self.transform:\n",
    "            image = self.transform(image)\n",
    "        if self.target_transform:\n",
    "            label = self.target_transform(label)\n",
    "        return image, label"
   ]
  },
  {
   "cell_type": "markdown",
   "metadata": {},
   "source": [
    "### __init__\n",
    "\n",
    "The __init__ function is run once when instantiating the Dataset object. \n",
    "인스턴스 : 어떤 클래스에 속하는 각각의 객체\n",
    "instantiating : 인스턴스화 : 클래스로부터 인스턴스를 생성하는것\n",
    "\n",
    "We initialize the directory containing the images, the annotations file, \n",
    "and both transforms (covered in more detail in the next section).\n",
    "\n",
    "The labels.csv file looks like:\n",
    "\n",
    "tshirt1.jpg, 0\n",
    "tshirt2.jpg, 0\n",
    "......\n",
    "ankleboot999.jpg, 9"
   ]
  },
  {
   "cell_type": "code",
   "execution_count": 6,
   "metadata": {},
   "outputs": [],
   "source": [
    "def __init__(self, annotations_file, img_dir, transform=None, target_transform=None):\n",
    "    self.img_labels = pd.read_csv(annotations_file)\n",
    "    self.img_dir = img_dir\n",
    "    self.transform = transform\n",
    "    self.target_transform = target_transform"
   ]
  },
  {
   "cell_type": "markdown",
   "metadata": {},
   "source": [
    "### __len__\n",
    "\n",
    "The __len__ function returns the number of samples in our dataset.\n",
    "\n",
    "Example:"
   ]
  },
  {
   "cell_type": "code",
   "execution_count": null,
   "metadata": {},
   "outputs": [],
   "source": [
    "def __len__(self):\n",
    "    return len(self.img_labels)"
   ]
  },
  {
   "cell_type": "markdown",
   "metadata": {},
   "source": [
    "### __getitem__\n",
    "\n",
    "The __getitem__ function loads and returns a sample from the dataset at the given index / idx. \n",
    "Based on the index, it identifies the image’s location on disk, \n",
    "converts that to a tensor using read_image, \n",
    "retrieves the corresponding label from the csv data in self.img_labels, \n",
    "retrieves : 검색하다\n",
    "calls the transform functions on them (if applicable), \n",
    "applicable : 해당되는, 적용되는\n",
    "and returns the tensor image and corresponding label in a tuple.\n",
    "corresponding : ~에 해당하는"
   ]
  },
  {
   "cell_type": "code",
   "execution_count": 7,
   "metadata": {},
   "outputs": [],
   "source": [
    "def __getitem__(self, idx):\n",
    "    img_path = os.path.join(self.img_dir, self.img_labels.iloc[idx, 0])\n",
    "    image = read_image(img_path)\n",
    "    label = self.img_labels.iloc[idx, 1]\n",
    "    if self.transform:\n",
    "        image = self.transform(image)\n",
    "    if self.target_transform:\n",
    "        label = self.target_transform(label)\n",
    "    return image, label"
   ]
  },
  {
   "cell_type": "markdown",
   "metadata": {},
   "source": [
    "\n",
    "---\n",
    "\n",
    "## Preparing your data for training with DataLoaders\n",
    "\n",
    "The Dataset retrieves our dataset’s features and labels one sample at a time. \n",
    "While training a model, we typically want to pass samples in “minibatches”, \n",
    "reshuffle the data at every epoch to reduce model overfitting, \n",
    "and use Python’s multiprocessing to speed up data retrieval.\n",
    "retrieval : 검색\n",
    "\n",
    "DataLoader is an iterable that abstracts this complexity for us in an easy API.\n",
    "iterable : 1개의 데이터가 여러개의 구성요소를 가지는 것 ex. 리스트, 튜플, 딕셔너리 등\n",
    "abstracts : 추상화"
   ]
  },
  {
   "cell_type": "code",
   "execution_count": 8,
   "metadata": {},
   "outputs": [],
   "source": [
    "from torch.utils.data import DataLoader\n",
    "\n",
    "train_dataloader = DataLoader(training_data, batch_size=64, shuffle=True)\n",
    "test_dataloader = DataLoader(test_data, batch_size=64, shuffle=True)"
   ]
  },
  {
   "cell_type": "markdown",
   "metadata": {},
   "source": [
    "## Iterate through the DataLoader\n",
    "\n",
    "We have loaded that dataset into the DataLoader and can iterate through the dataset as needed. \n",
    "iterate : 반복하다\n",
    "Each iteration below returns a batch of train_features and train_labels \n",
    "(containing batch_size=64 features and labels respectively). \n",
    "respectively : 각자, 각각\n",
    "Because we specified shuffle=True, after we iterate over all batches the data is shuffled \n",
    "(for finer-grained control over the data loading order, take a look at Samplers).\n",
    "specify : 명시하다"
   ]
  },
  {
   "cell_type": "code",
   "execution_count": 9,
   "metadata": {},
   "outputs": [
    {
     "name": "stdout",
     "output_type": "stream",
     "text": [
      "Feature batch shape: torch.Size([64, 1, 28, 28])\n",
      "Labels batch shape: torch.Size([64])\n"
     ]
    },
    {
     "data": {
      "image/png": "[encoded data removed]",
      "text/plain": [
       "<Figure size 640x480 with 1 Axes>"
      ]
     },
     "metadata": {},
     "output_type": "display_data"
    },
    {
     "name": "stdout",
     "output_type": "stream",
     "text": [
      "Label: 0\n"
     ]
    }
   ],
   "source": [
    "# Display image and label.\n",
    "train_features, train_labels = next(iter(train_dataloader))\n",
    "print(f\"Feature batch shape: {train_features.size()}\")\n",
    "print(f\"Labels batch shape: {train_labels.size()}\")\n",
    "img = train_features[0].squeeze()\n",
    "label = train_labels[0]\n",
    "plt.imshow(img, cmap=\"gray\")\n",
    "plt.show()\n",
    "print(f\"Label: {label}\")"
   ]
  }
 ],
 "metadata": {
  "kernelspec": {
   "display_name": "Python 3",
   "language": "python",
   "name": "python3"
  },
  "language_info": {
   "codemirror_mode": {
    "name": "ipython",
    "version": 3
   },
   "file_extension": ".py",
   "mimetype": "text/x-python",
   "name": "python",
   "nbconvert_exporter": "python",
   "pygments_lexer": "ipython3",
   "version": "3.10.1"
  }
 },
 "nbformat": 4,
 "nbformat_minor": 2
}

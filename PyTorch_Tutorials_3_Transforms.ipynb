{
 "cells": [
  {
   "cell_type": "markdown",
   "metadata": {},
   "source": [
    "# TRANSFORMS\n",
    "  \n",
    "Data does not always come in its final processed form that is required for training machine learning algorithms.   \n",
    "데이터는 항상 기계 학습 알고리즘에 필요한 최종 처리된 형식으로 제공되지 않을 수 있음  \n",
    "\n",
    "We use transforms to perform some manipulation of the data and make it suitable for training.  \n",
    "manipulation : 무언가를 조작하거나 조절하는 행위  \n",
    "manipulate : 조종하다, 조작하다, 처리하다  \n",
    "  \n",
    "All TorchVision datasets have two parameters  \n",
    "-transform to modify the features / transform은 특징(features)을 수정  \n",
    "and target_transform to modify the labels- / target_transform은 레이블을 수정  \n",
    "\n",
    "that accept callables containing the transformation logic.  \n",
    "이 매개변수들은 변환 로직을 포함하는 호출 가능한 객체를 수용     \n",
    "  \n",
    "The torchvision.transforms module offers several commonly-used transforms out of the box.  \n",
    "torchvision.transforms 모듈은 박스에서 바로 사용할 수 있는 몇 가지 흔히 사용되는 변환을 제공  \n",
    "\n",
    "The FashionMNIST features are in PIL Image format, and the labels are integers.   \n",
    "For training, we need the features as normalized tensors,   \n",
    "and the labels as one-hot encoded tensors.   \n",
    "To make these transformations, we use ToTensor and Lambda.  "
   ]
  },
  {
   "cell_type": "code",
   "execution_count": 2,
   "metadata": {},
   "outputs": [],
   "source": [
    "import torch\n",
    "from torchvision import datasets\n",
    "from torchvision.transforms import ToTensor, Lambda\n",
    "\n",
    "ds = datasets.FashionMNIST(\n",
    "    root=\"data\",\n",
    "    train=True,\n",
    "    download=True,\n",
    "    transform=ToTensor(),\n",
    "    target_transform=Lambda(lambda y: torch.zeros(10, dtype=torch.float).scatter_(0, torch.tensor(y), value=1))\n",
    ")"
   ]
  },
  {
   "cell_type": "markdown",
   "metadata": {},
   "source": [
    "### ToTensor()\n",
    "ToTensor converts a PIL image or NumPy ndarray into a FloatTensor.   \n",
    "and scales the image’s pixel intensity values in the range [0., 1.]  \n",
    "이미지의 픽셀 강도 값을 [0., 1.] 범위로 조정   \n",
    "  \n",
    "### Lambda Transforms\n",
    "Lambda transforms apply any user-defined lambda function.   \n",
    "Lambda 변환은 사용자가 정의한 람다 함수를 적용함  \n",
    "Here, we define a function to turn the integer into a one-hot encoded tensor.  \n",
    "여기서는 정수를 원-핫 인코딩된 텐서로 변환하는 함수를 정의   \n",
    "It first creates a zero tensor of size 10 (the number of labels in our dataset)  \n",
    "and calls scatter_ which assigns a value=1 on the index as given by the label y.  \n",
    "scatter_ 함수를 호출하여 y 레이블에 해당하는 인덱스에 값 1을 할당"
   ]
  },
  {
   "cell_type": "code",
   "execution_count": 3,
   "metadata": {},
   "outputs": [],
   "source": [
    "target_transform = Lambda(lambda y: torch.zeros(\n",
    "    10, dtype=torch.float).scatter_(dim=0, index=torch.tensor(y), value=1))"
   ]
  }
 ],
 "metadata": {
  "kernelspec": {
   "display_name": "Python 3",
   "language": "python",
   "name": "python3"
  },
  "language_info": {
   "codemirror_mode": {
    "name": "ipython",
    "version": 3
   },
   "file_extension": ".py",
   "mimetype": "text/x-python",
   "name": "python",
   "nbconvert_exporter": "python",
   "pygments_lexer": "ipython3",
   "version": "3.10.1"
  }
 },
 "nbformat": 4,
 "nbformat_minor": 2
}

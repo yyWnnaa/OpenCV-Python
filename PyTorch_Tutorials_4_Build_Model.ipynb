{
 "cells": [
  {
   "cell_type": "markdown",
   "metadata": {},
   "source": [
    "# BUILD THE NEURAL NETWORK\n",
    "  \n",
    "Neural networks comprise of layers/modules that perform operations on data.   \n",
    "comprise of : ~로 구성되는  \n",
    "신경망은 데이터에 대한 연산을 수행하는 층/모듈로 구성됨  \n",
    "  \n",
    "The torch.nn namespace provides all the building blocks you need to build your own neural network.   \n",
    "\n",
    "Every module in PyTorch subclasses the nn.Module.  \n",
    "PyTorch의 각 모듈은 nn.Module을 서브클래스화  \n",
    "하위 클래스가 상위 클래스를 상속받아 새로운 클래스를 정의하는 것  \n",
    "상위 클래스는 일반적인 특성이나 기능을 정의하고,   \n",
    "하위 클래스는 이러한 기능을 상속받아 추가하거나 수정하여 특정한 동작을 수행하도록 만든다  \n",
    "PyTorch의 nn.Module은 신경망 모델의 기본 클래스로 사용됨  \n",
    "사용자는 이 클래스를 서브클래스화하여 자신만의 신경망 아키텍처를 정의할 수 있음  \n",
    "(기존의 기능을 상속받아 사용하면서 필요한 추가적인 동작을 구현)  \n",
    "\n",
    "A neural network is a module itself that consists of other modules (layers).     \n",
    "consist of : ~로 구성되다\n",
    "신경망은 그 자체로 모듈 / 다른 모듈(레이어로 구성되는)  \n",
    "\n",
    "This nested structure allows for building and managing complex architectures easily.  \n",
    "    \n",
    "In the following sections, we’ll build a neural network to classify images in the FashionMNIST dataset.  "
   ]
  },
  {
   "cell_type": "code",
   "execution_count": 5,
   "metadata": {},
   "outputs": [],
   "source": [
    "import os\n",
    "import torch\n",
    "from torch import nn\n",
    "from torch.utils.data import DataLoader\n",
    "from torchvision import datasets, transforms"
   ]
  },
  {
   "cell_type": "markdown",
   "metadata": {},
   "source": [
    "### Get Device for Training\n",
    "  \n",
    "We want to be able to train our model on a hardware accelerator like the GPU or MPS, if available.   \n",
    "Let’s check to see if torch.cuda or torch.backends.mps are available, otherwise we use the CPU.  \n",
    "  \n",
    "torch.cuda : 현재 시스템에서 GPU가 사용 가능한지 여부  \n",
    "torch.backends.mps : Apple M1에서 GPU 사용  "
   ]
  },
  {
   "cell_type": "code",
   "execution_count": 6,
   "metadata": {},
   "outputs": [
    {
     "name": "stdout",
     "output_type": "stream",
     "text": [
      "Using cpu device\n"
     ]
    }
   ],
   "source": [
    "device = (\n",
    "    \"cuda\"\n",
    "    if torch.cuda.is_available()\n",
    "    else \"mps\"\n",
    "    if torch.backends.mps.is_available()\n",
    "    else \"cpu\"\n",
    ")\n",
    "print(f\"Using {device} device\")"
   ]
  },
  {
   "cell_type": "markdown",
   "metadata": {},
   "source": [
    "### Define the Class\n",
    "  \n",
    "We define our neural network by subclassing nn.Module, and initialize the neural network layers in __init__.   \n",
    "  \n",
    "Every nn.Module subclass implements the operations on input data in the forward method.  \n",
    "implement : 구현하다, 실행하다  "
   ]
  },
  {
   "cell_type": "code",
   "execution_count": 7,
   "metadata": {},
   "outputs": [],
   "source": [
    "class NeuralNetwork(nn.Module):\n",
    "    def __init__(self):\n",
    "        super().__init__()\n",
    "        self.flatten = nn.Flatten()\n",
    "        self.linear_relu_stack = nn.Sequential(\n",
    "            nn.Linear(28*28, 512), # 28x28 픽셀의 이미지를 평탄화된 1D 텐서로 변환\n",
    "                                   # 입력 28x28 = 784, 출력 512\n",
    "            nn.ReLU(),\n",
    "            nn.Linear(512, 512), # 입력 차원이 512고 출력 차원도 512\n",
    "            nn.ReLU(),\n",
    "            nn.Linear(512, 10), # 10개의 클래스에 대한 분류를 수행하기 때문에 출력 10\n",
    "                                # 최종 출력 레이어이기 때문에 활성화 함수 없음\n",
    "        )\n",
    "\n",
    "    def forward(self, x):\n",
    "        x = self.flatten(x)\n",
    "        logits = self.linear_relu_stack(x)\n",
    "        return logits"
   ]
  },
  {
   "cell_type": "markdown",
   "metadata": {},
   "source": [
    "We create an instance of NeuralNetwork, and move it to the device, and print its structure.  \n",
    "인스턴스 : 어떤 클래스에 속하는 각각의 객체 "
   ]
  },
  {
   "cell_type": "code",
   "execution_count": 8,
   "metadata": {},
   "outputs": [
    {
     "name": "stdout",
     "output_type": "stream",
     "text": [
      "NeuralNetwork(\n",
      "  (flatten): Flatten(start_dim=1, end_dim=-1)\n",
      "  (linear_relu_stack): Sequential(\n",
      "    (0): Linear(in_features=784, out_features=512, bias=True)\n",
      "    (1): ReLU()\n",
      "    (2): Linear(in_features=512, out_features=512, bias=True)\n",
      "    (3): ReLU()\n",
      "    (4): Linear(in_features=512, out_features=10, bias=True)\n",
      "  )\n",
      ")\n"
     ]
    }
   ],
   "source": [
    "model = NeuralNetwork().to(device)\n",
    "print(model)"
   ]
  },
  {
   "cell_type": "markdown",
   "metadata": {},
   "source": [
    "To use the model, we pass it the input data. 모델 사용을 위해 입력 데이터를 전달  \n",
    "This executes the model’s forward, along with some background operations.   \n",
    "execute : 실행하다  , 일부 백그라운드 작업 또한 수행  \n",
    "Do not call model.forward() directly!  \n",
    "  \n",
    "Calling the model on the input returns   \n",
    "a 2-dimensional tensor with dim=0 corresponding to each output of 10 raw predicted values for each class,   \n",
    "and dim=1 corresponding to the individual values of each output.  \n",
    "corresponding : ~에 해당하는   \n",
    "dim=0은 각 클래스에 대한 10개의 원시 예측 값 출력에 해당  \n",
    "dim=1은 각 출력의 개별 값에 해당하는 2차원 텐서가 반환  \n",
    "  \n",
    "We get the prediction probabilities by passing it through an instance of the nn.Softmax module.  "
   ]
  },
  {
   "cell_type": "code",
   "execution_count": 9,
   "metadata": {},
   "outputs": [
    {
     "name": "stdout",
     "output_type": "stream",
     "text": [
      "Predicted class: tensor([5])\n"
     ]
    }
   ],
   "source": [
    "X = torch.rand(1, 28, 28, device=device)\n",
    "# device=device : 현재 활성화된 디바이스에 텐서를 할당\n",
    "\n",
    "logits = model(X)\n",
    "pred_probab = nn.Softmax(dim=1)(logits)\n",
    "\n",
    "y_pred = pred_probab.argmax(1)\n",
    "# pred_probab에서 최대값의 인덱스를 추출\n",
    "\n",
    "print(f\"Predicted class: {y_pred}\")"
   ]
  },
  {
   "cell_type": "markdown",
   "metadata": {},
   "source": [
    "---"
   ]
  },
  {
   "cell_type": "markdown",
   "metadata": {},
   "source": [
    "### Model Layers\n",
    "\n",
    "Let’s break down the layers in the FashionMNIST model.   \n",
    "break down : (분석할 수 있도록) 나누어지다  \n",
    "각 레이어에서 어떤 일이 일어나는지 나누어서 분석하겠다는 뜻  \n",
    "이외에 고장나다, 실패하다, 나빠지다, 감정을 주체하지 못하다 라는 뜻도 있음  \n",
    "\n",
    "To illustrate it, we will take a sample minibatch of 3 images of size 28x28   \n",
    "and see what happens to it as we pass it through the network."
   ]
  },
  {
   "cell_type": "code",
   "execution_count": 10,
   "metadata": {},
   "outputs": [
    {
     "name": "stdout",
     "output_type": "stream",
     "text": [
      "torch.Size([3, 28, 28])\n"
     ]
    }
   ],
   "source": [
    "input_image = torch.rand(3,28,28)\n",
    "# 3은 RGB 이미지의 빨간색, 초록색, 파란색 3채널을 의미\n",
    "print(input_image.size())"
   ]
  },
  {
   "cell_type": "markdown",
   "metadata": {},
   "source": [
    "#### nn.Flatten\n",
    "  \n",
    "We initialize the nn.Flatten layer to convert each 2D 28x28 image   \n",
    "into a contiguous array of 784 pixel values   \n",
    "(the minibatch dimension (at dim=0) is maintained).  \n",
    "\n",
    "contiguous : 인접한, 근접한 / contiguous array : 연속 배열  \n",
    "연속 배열 : 메모리 상에서 연속된 위치에 요소가 저장된 배열\n",
    "\n",
    "각 2D 28x28 이미지를 784개의 픽셀 값으로 이루어진 연속 배열로 변환    \n",
    "(dim=0에서 미니배치 차원은 유지)  \n",
    "\n",
    "즉, nn.Flatten 레이어를 사용하여 이미지를 펼치고,  \n",
    "이를 통해 연속된 1차원 배열로 변환"
   ]
  },
  {
   "cell_type": "code",
   "execution_count": 11,
   "metadata": {},
   "outputs": [
    {
     "name": "stdout",
     "output_type": "stream",
     "text": [
      "torch.Size([3, 784])\n"
     ]
    }
   ],
   "source": [
    "flatten = nn.Flatten()\n",
    "flat_image = flatten(input_image)\n",
    "print(flat_image.size())"
   ]
  },
  {
   "cell_type": "markdown",
   "metadata": {},
   "source": [
    "#### nn.Linear\n",
    "\n",
    "The linear layer is a module that applies a linear transformation on the input using its stored weights and biases.  \n",
    "저장된 가중치(weights)와 편향(biases)을 사용하여 입력에 선형 변환을 적용하는 모듈  "
   ]
  },
  {
   "cell_type": "code",
   "execution_count": 12,
   "metadata": {},
   "outputs": [
    {
     "name": "stdout",
     "output_type": "stream",
     "text": [
      "torch.Size([3, 20])\n"
     ]
    }
   ],
   "source": [
    "layer1 = nn.Linear(in_features=28*28, out_features=20)\n",
    "# out_features : 출력 특성(feature)의 수\n",
    "\n",
    "hidden1 = layer1(flat_image)\n",
    "print(hidden1.size())"
   ]
  },
  {
   "cell_type": "markdown",
   "metadata": {},
   "source": [
    "#### nn.ReLU\n",
    "  \n",
    "Non-linear activations are what create the complex mappings between the model’s inputs and outputs.   \n",
    "They are applied after linear transformations to introduce nonlinearity,   \n",
    "helping neural networks learn a wide variety of phenomena.  \n",
    "phenomena : phenomenon의 복수,  phenomenon : 현상  \n",
    "\n",
    "In this model, we use nn.ReLU between our linear layers,   \n",
    "but there’s other activations to introduce non-linearity in your model.  "
   ]
  },
  {
   "cell_type": "code",
   "execution_count": 13,
   "metadata": {},
   "outputs": [
    {
     "name": "stdout",
     "output_type": "stream",
     "text": [
      "Before ReLU: tensor([[ 0.1918,  0.6809, -0.1279, -0.1658,  0.1338,  0.2457, -0.4145,  0.7269,\n",
      "         -0.1419, -0.3149, -0.0689, -0.3511, -0.2054, -0.5268, -0.1730,  0.3882,\n",
      "          0.0594,  0.3020,  0.4584,  0.1076],\n",
      "        [-0.1275,  0.4373, -0.2131, -0.2013,  0.1494,  0.0678, -0.6561,  0.4959,\n",
      "         -0.2742, -0.1730, -0.2247,  0.0493, -0.0193, -0.7585, -0.1401,  0.2591,\n",
      "          0.0996,  0.1826,  0.1835,  0.1200],\n",
      "        [ 0.0102,  0.9076, -0.3240, -0.1586,  0.1789,  0.2827, -0.4057,  0.4855,\n",
      "          0.1354, -0.1306, -0.0149, -0.3936, -0.1112, -0.4410, -0.0464,  0.1850,\n",
      "         -0.3303, -0.0129,  0.7587,  0.2497]], grad_fn=<AddmmBackward0>)\n",
      "\n",
      "\n",
      "After ReLU: tensor([[0.1918, 0.6809, 0.0000, 0.0000, 0.1338, 0.2457, 0.0000, 0.7269, 0.0000,\n",
      "         0.0000, 0.0000, 0.0000, 0.0000, 0.0000, 0.0000, 0.3882, 0.0594, 0.3020,\n",
      "         0.4584, 0.1076],\n",
      "        [0.0000, 0.4373, 0.0000, 0.0000, 0.1494, 0.0678, 0.0000, 0.4959, 0.0000,\n",
      "         0.0000, 0.0000, 0.0493, 0.0000, 0.0000, 0.0000, 0.2591, 0.0996, 0.1826,\n",
      "         0.1835, 0.1200],\n",
      "        [0.0102, 0.9076, 0.0000, 0.0000, 0.1789, 0.2827, 0.0000, 0.4855, 0.1354,\n",
      "         0.0000, 0.0000, 0.0000, 0.0000, 0.0000, 0.0000, 0.1850, 0.0000, 0.0000,\n",
      "         0.7587, 0.2497]], grad_fn=<ReluBackward0>)\n"
     ]
    }
   ],
   "source": [
    "print(f\"Before ReLU: {hidden1}\\n\\n\")\n",
    "hidden1 = nn.ReLU()(hidden1)\n",
    "print(f\"After ReLU: {hidden1}\")"
   ]
  },
  {
   "cell_type": "markdown",
   "metadata": {},
   "source": [
    "#### nn.Sequential\n",
    "  \n",
    "nn.Sequential is an ordered container of modules. \n",
    "순서가 있는 자료구조    \n",
    "The data is passed through all the modules in the same order as defined.   \n",
    "You can use sequential containers to put together a quick network like seq_modules.  \n",
    "순차적으로 모듈들을 나열하여 빠르게 네트워크를 구성할 수 있음  "
   ]
  },
  {
   "cell_type": "code",
   "execution_count": 14,
   "metadata": {},
   "outputs": [],
   "source": [
    "seq_modules = nn.Sequential(\n",
    "    flatten,\n",
    "    layer1,\n",
    "    nn.ReLU(),\n",
    "    nn.Linear(20, 10) # 입력 특성이 20이고 출력 특성이 10\n",
    ")\n",
    "input_image = torch.rand(3,28,28)\n",
    "logits = seq_modules(input_image)"
   ]
  },
  {
   "cell_type": "markdown",
   "metadata": {},
   "source": [
    "#### nn.Softmax\n",
    "  \n",
    "The last linear layer of the neural network returns logits - raw values in [-infty, infty] -   \n",
    "which are passed to the nn.Softmax module.   \n",
    "The logits are scaled to values [0, 1] representing the model’s predicted probabilities for each class.   \n",
    "dim parameter indicates the dimension along which the values must sum to 1.\n",
    "\n",
    "indicate 나타내다  \n",
    "dim 매개변수는 확률 값이 1이 되어야 하는 차원을 지정  \n",
    "즉, 확률값들의 합이 1이 되도록 정규화될 차원을 나타냄   \n",
    "보통은 클래스 차원이며, 각 샘플에 대한 확률값들의 합이 1이 되도록 조정"
   ]
  },
  {
   "cell_type": "code",
   "execution_count": 15,
   "metadata": {},
   "outputs": [],
   "source": [
    "softmax = nn.Softmax(dim=1)\n",
    "pred_probab = softmax(logits)"
   ]
  },
  {
   "cell_type": "markdown",
   "metadata": {},
   "source": [
    "### Model Parameters\n",
    "  \n",
    "Many layers inside a neural network are parameterized, i.e. have associated weights and biases that are optimized during training.   \n",
    "Subclassing nn.Module automatically tracks all fields defined inside your model object  \n",
    "nn.Module을 하위 클래스로 만들면 모델 객체 내에서 정의된 모든 필드를 자동으로 추적하고,  \n",
    "and makes all parameters accessible using your model’s parameters() or named_parameters() methods.  \n",
    "모델의 parameters() 또는 named_parameters() 메서드를 사용하여 모든 매개변수에 접근할 수 있게 됨  \n",
    "\n",
    "In this example, we iterate over each parameter, and print its size and a preview of its values.  \n",
    "이 예제에서는 각 매개변수를 반복하고 해당 크기와 값의 미리보기를 출력  "
   ]
  },
  {
   "cell_type": "code",
   "execution_count": 16,
   "metadata": {},
   "outputs": [
    {
     "name": "stdout",
     "output_type": "stream",
     "text": [
      "Model structure: NeuralNetwork(\n",
      "  (flatten): Flatten(start_dim=1, end_dim=-1)\n",
      "  (linear_relu_stack): Sequential(\n",
      "    (0): Linear(in_features=784, out_features=512, bias=True)\n",
      "    (1): ReLU()\n",
      "    (2): Linear(in_features=512, out_features=512, bias=True)\n",
      "    (3): ReLU()\n",
      "    (4): Linear(in_features=512, out_features=10, bias=True)\n",
      "  )\n",
      ")\n",
      "\n",
      "\n",
      "Layer: linear_relu_stack.0.weight | Size: torch.Size([512, 784]) | Values : tensor([[ 0.0264,  0.0338,  0.0196,  ...,  0.0181, -0.0275,  0.0027],\n",
      "        [ 0.0006,  0.0207, -0.0185,  ..., -0.0165,  0.0205,  0.0253]],\n",
      "       grad_fn=<SliceBackward0>) \n",
      "\n",
      "Layer: linear_relu_stack.0.bias | Size: torch.Size([512]) | Values : tensor([-0.0186, -0.0023], grad_fn=<SliceBackward0>) \n",
      "\n",
      "Layer: linear_relu_stack.2.weight | Size: torch.Size([512, 512]) | Values : tensor([[ 0.0029,  0.0192,  0.0081,  ...,  0.0134, -0.0224, -0.0006],\n",
      "        [-0.0430, -0.0121, -0.0209,  ...,  0.0297, -0.0065, -0.0327]],\n",
      "       grad_fn=<SliceBackward0>) \n",
      "\n",
      "Layer: linear_relu_stack.2.bias | Size: torch.Size([512]) | Values : tensor([-0.0318,  0.0012], grad_fn=<SliceBackward0>) \n",
      "\n",
      "Layer: linear_relu_stack.4.weight | Size: torch.Size([10, 512]) | Values : tensor([[-0.0096, -0.0167, -0.0345,  ..., -0.0100, -0.0296,  0.0418],\n",
      "        [-0.0390, -0.0312,  0.0406,  ...,  0.0123, -0.0419,  0.0035]],\n",
      "       grad_fn=<SliceBackward0>) \n",
      "\n",
      "Layer: linear_relu_stack.4.bias | Size: torch.Size([10]) | Values : tensor([0.0035, 0.0160], grad_fn=<SliceBackward0>) \n",
      "\n"
     ]
    }
   ],
   "source": [
    "print(f\"Model structure: {model}\\n\\n\")\n",
    "\n",
    "for name, param in model.named_parameters():\n",
    "    print(f\"Layer: {name} | Size: {param.size()} | Values : {param[:2]} \\n\")"
   ]
  }
 ],
 "metadata": {
  "kernelspec": {
   "display_name": "Python 3",
   "language": "python",
   "name": "python3"
  },
  "language_info": {
   "codemirror_mode": {
    "name": "ipython",
    "version": 3
   },
   "file_extension": ".py",
   "mimetype": "text/x-python",
   "name": "python",
   "nbconvert_exporter": "python",
   "pygments_lexer": "ipython3",
   "version": "3.10.1"
  }
 },
 "nbformat": 4,
 "nbformat_minor": 2
}

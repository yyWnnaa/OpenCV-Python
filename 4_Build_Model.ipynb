{
 "cells": [
  {
   "cell_type": "markdown",
   "metadata": {},
   "source": [
    "# BUILD THE NEURAL NETWORK\n",
    "  \n",
    "Neural networks comprise of layers/modules that perform operations on data.   \n",
    "comprise of : ~로 구성되는  \n",
    "신경망은 데이터에 대한 연산을 수행하는 층/모듈로 구성됨  \n",
    "  \n",
    "The torch.nn namespace provides all the building blocks you need to build your own neural network.   \n",
    "\n",
    "Every module in PyTorch subclasses the nn.Module.  \n",
    "PyTorch의 각 모듈은 nn.Module을 서브클래스화  \n",
    "하위 클래스가 상위 클래스를 상속받아 새로운 클래스를 정의하는 것  \n",
    "상위 클래스는 일반적인 특성이나 기능을 정의하고, 하위 클래스는 이러한 기능을 상속받아 추가하거나 수정하여 특정한 동작을 수행하도록 만든다  \n",
    "PyTorch의 nn.Module은 신경망 모델의 기본 클래스로 사용됨  \n",
    "사용자는 이 클래스를 서브클래스화하여 자신만의 신경망 아키텍처를 정의할 수 있음  \n",
    "(기존의 기능을 상속받아 사용하면서 필요한 추가적인 동작을 구현)  \n",
    "\n",
    "A neural network is a module itself that consists of other modules (layers).   \n",
    "This nested structure allows for building and managing complex architectures easily.  \n",
    "    \n",
    "In the following sections, we’ll build a neural network to classify images in the FashionMNIST dataset.  "
   ]
  },
  {
   "cell_type": "code",
   "execution_count": 2,
   "metadata": {},
   "outputs": [],
   "source": [
    "import os\n",
    "import torch\n",
    "from torch import nn\n",
    "from torch.utils.data import DataLoader\n",
    "from torchvision import datasets, transforms"
   ]
  },
  {
   "cell_type": "markdown",
   "metadata": {},
   "source": [
    "### Get Device for Training\n",
    "  \n",
    "We want to be able to train our model on a hardware accelerator like the GPU or MPS, if available.   \n",
    "Let’s check to see if torch.cuda or torch.backends.mps are available, otherwise we use the CPU.  "
   ]
  },
  {
   "cell_type": "code",
   "execution_count": 3,
   "metadata": {},
   "outputs": [
    {
     "name": "stdout",
     "output_type": "stream",
     "text": [
      "Using cpu device\n"
     ]
    }
   ],
   "source": [
    "device = (\n",
    "    \"cuda\"\n",
    "    if torch.cuda.is_available()\n",
    "    else \"mps\"\n",
    "    if torch.backends.mps.is_available()\n",
    "    else \"cpu\"\n",
    ")\n",
    "print(f\"Using {device} device\")"
   ]
  },
  {
   "cell_type": "markdown",
   "metadata": {},
   "source": [
    "### Define the Class\n",
    "  \n",
    "We define our neural network by subclassing nn.Module, and initialize the neural network layers in __init__.   \n",
    "  \n",
    "Every nn.Module subclass implements the operations on input data in the forward method.  "
   ]
  },
  {
   "cell_type": "code",
   "execution_count": 4,
   "metadata": {},
   "outputs": [],
   "source": [
    "class NeuralNetwork(nn.Module):\n",
    "    def __init__(self):\n",
    "        super().__init__()\n",
    "        self.flatten = nn.Flatten()\n",
    "        self.linear_relu_stack = nn.Sequential(\n",
    "            nn.Linear(28*28, 512),\n",
    "            nn.ReLU(),\n",
    "            nn.Linear(512, 512),\n",
    "            nn.ReLU(),\n",
    "            nn.Linear(512, 10),\n",
    "        )\n",
    "\n",
    "    def forward(self, x):\n",
    "        x = self.flatten(x)\n",
    "        logits = self.linear_relu_stack(x)\n",
    "        return logits"
   ]
  },
  {
   "cell_type": "markdown",
   "metadata": {},
   "source": [
    "We create an instance of NeuralNetwork, and move it to the device, and print its structure."
   ]
  },
  {
   "cell_type": "code",
   "execution_count": 5,
   "metadata": {},
   "outputs": [
    {
     "name": "stdout",
     "output_type": "stream",
     "text": [
      "NeuralNetwork(\n",
      "  (flatten): Flatten(start_dim=1, end_dim=-1)\n",
      "  (linear_relu_stack): Sequential(\n",
      "    (0): Linear(in_features=784, out_features=512, bias=True)\n",
      "    (1): ReLU()\n",
      "    (2): Linear(in_features=512, out_features=512, bias=True)\n",
      "    (3): ReLU()\n",
      "    (4): Linear(in_features=512, out_features=10, bias=True)\n",
      "  )\n",
      ")\n"
     ]
    }
   ],
   "source": [
    "model = NeuralNetwork().to(device)\n",
    "print(model)"
   ]
  },
  {
   "cell_type": "markdown",
   "metadata": {},
   "source": [
    "To use the model, we pass it the input data. 모델 사용을 위해 입력 데이터를 전달  \n",
    "This executes the model’s forward, along with some background operations.   \n",
    "execute : 실행하다  \n",
    "Do not call model.forward() directly!  \n",
    "  \n",
    "Calling the model on the input returns   \n",
    "a 2-dimensional tensor with dim=0 corresponding to each output of 10 raw predicted values for each class,   \n",
    "and dim=1 corresponding to the individual values of each output.  \n",
    "corresponding : ~에 해당하는   \n",
    "dim=0은 각 클래스에 대한 10개의 원시 예측 값 출력에 해당  \n",
    "dim=1은 각 출력의 개별 값에 해당하는 2차원 텐서가 반환  \n",
    "  \n",
    "We get the prediction probabilities by passing it through an instance of the nn.Softmax module.  "
   ]
  },
  {
   "cell_type": "code",
   "execution_count": 6,
   "metadata": {},
   "outputs": [
    {
     "name": "stdout",
     "output_type": "stream",
     "text": [
      "Predicted class: tensor([7])\n"
     ]
    }
   ],
   "source": [
    "X = torch.rand(1, 28, 28, device=device)\n",
    "logits = model(X)\n",
    "pred_probab = nn.Softmax(dim=1)(logits)\n",
    "y_pred = pred_probab.argmax(1)\n",
    "print(f\"Predicted class: {y_pred}\")"
   ]
  },
  {
   "cell_type": "markdown",
   "metadata": {},
   "source": [
    "---"
   ]
  },
  {
   "cell_type": "markdown",
   "metadata": {},
   "source": [
    "### Model Layers\n",
    "\n",
    "Let’s break down the layers in the FashionMNIST model.   \n",
    "break down : (분석할 수 있도록) 나누어지다  \n",
    "각 레이어에서 어떤 일이 일어나는지 나누어서 분석하겠다는 뜻  \n",
    "이외에 고장나다, 실패하다, 나빠지다, 감정을 주체하지 못하다 라는 뜻도 있음  \n",
    "\n",
    "To illustrate it, we will take a sample minibatch of 3 images of size 28x28 and see what happens to it as we pass it through the network."
   ]
  },
  {
   "cell_type": "code",
   "execution_count": 7,
   "metadata": {},
   "outputs": [
    {
     "name": "stdout",
     "output_type": "stream",
     "text": [
      "torch.Size([3, 28, 28])\n"
     ]
    }
   ],
   "source": [
    "input_image = torch.rand(3,28,28)\n",
    "print(input_image.size())"
   ]
  },
  {
   "cell_type": "markdown",
   "metadata": {},
   "source": [
    "#### nn.Flatten\n",
    "  \n",
    "We initialize the nn.Flatten layer to convert each 2D 28x28 image into a contiguous array of 784 pixel values (the minibatch dimension (at dim=0) is maintained).  \n",
    "contiguous : 인접한, 근접한  \n",
    "각 2D 28x28 이미지를 784개의 픽셀 값으로 이루어진 연속 배열로 변환하기 위해 nn.Flatten 레이어를 초기화  \n",
    "(dim=0에서 미니배치 차원은 유지)  "
   ]
  },
  {
   "cell_type": "code",
   "execution_count": 8,
   "metadata": {},
   "outputs": [
    {
     "name": "stdout",
     "output_type": "stream",
     "text": [
      "torch.Size([3, 784])\n"
     ]
    }
   ],
   "source": [
    "flatten = nn.Flatten()\n",
    "flat_image = flatten(input_image)\n",
    "print(flat_image.size())"
   ]
  },
  {
   "cell_type": "markdown",
   "metadata": {},
   "source": [
    "#### nn.Linear\n",
    "\n",
    "The linear layer is a module that applies a linear transformation on the input using its stored weights and biases.  \n",
    "저장된 가중치(weights)와 편향(biases)을 사용하여 입력에 선형 변환을 적용하는 모듈  "
   ]
  },
  {
   "cell_type": "code",
   "execution_count": 9,
   "metadata": {},
   "outputs": [
    {
     "name": "stdout",
     "output_type": "stream",
     "text": [
      "torch.Size([3, 20])\n"
     ]
    }
   ],
   "source": [
    "layer1 = nn.Linear(in_features=28*28, out_features=20)\n",
    "hidden1 = layer1(flat_image)\n",
    "print(hidden1.size())"
   ]
  },
  {
   "cell_type": "markdown",
   "metadata": {},
   "source": [
    "#### nn.ReLU\n",
    "  \n",
    "Non-linear activations are what create the complex mappings between the model’s inputs and outputs.   \n",
    "They are applied after linear transformations to introduce nonlinearity, helping neural networks learn a wide variety of phenomena.  \n",
    "  \n",
    "In this model, we use nn.ReLU between our linear layers,   \n",
    "but there’s other activations to introduce non-linearity in your model.  "
   ]
  },
  {
   "cell_type": "code",
   "execution_count": 10,
   "metadata": {},
   "outputs": [
    {
     "name": "stdout",
     "output_type": "stream",
     "text": [
      "Before ReLU: tensor([[ 0.2379,  0.5066,  0.0010, -0.3927,  0.3844, -0.0021, -0.4730,  0.1977,\n",
      "          0.2838,  0.5093,  0.0119, -0.0736, -0.3844,  0.1870,  0.2491, -0.1793,\n",
      "          0.4579, -0.2174,  0.0553, -0.1347],\n",
      "        [-0.1555,  0.5054, -0.0987, -0.2066, -0.1550, -0.4495, -0.6629,  0.0096,\n",
      "          0.2689,  0.6671, -0.0037, -0.0773, -0.2050,  0.0640,  0.2527,  0.2271,\n",
      "          0.6222,  0.2373, -0.0578,  0.1462],\n",
      "        [ 0.1884,  0.5414, -0.3695, -0.2746,  0.0301,  0.0496, -0.5556, -0.1155,\n",
      "          0.0947,  0.7566, -0.0095, -0.2681, -0.4242,  0.1492,  0.6983, -0.0166,\n",
      "          0.3179,  0.0968, -0.1286,  0.0912]], grad_fn=<AddmmBackward0>)\n",
      "\n",
      "\n",
      "After ReLU: tensor([[0.2379, 0.5066, 0.0010, 0.0000, 0.3844, 0.0000, 0.0000, 0.1977, 0.2838,\n",
      "         0.5093, 0.0119, 0.0000, 0.0000, 0.1870, 0.2491, 0.0000, 0.4579, 0.0000,\n",
      "         0.0553, 0.0000],\n",
      "        [0.0000, 0.5054, 0.0000, 0.0000, 0.0000, 0.0000, 0.0000, 0.0096, 0.2689,\n",
      "         0.6671, 0.0000, 0.0000, 0.0000, 0.0640, 0.2527, 0.2271, 0.6222, 0.2373,\n",
      "         0.0000, 0.1462],\n",
      "        [0.1884, 0.5414, 0.0000, 0.0000, 0.0301, 0.0496, 0.0000, 0.0000, 0.0947,\n",
      "         0.7566, 0.0000, 0.0000, 0.0000, 0.1492, 0.6983, 0.0000, 0.3179, 0.0968,\n",
      "         0.0000, 0.0912]], grad_fn=<ReluBackward0>)\n"
     ]
    }
   ],
   "source": [
    "print(f\"Before ReLU: {hidden1}\\n\\n\")\n",
    "hidden1 = nn.ReLU()(hidden1)\n",
    "print(f\"After ReLU: {hidden1}\")"
   ]
  },
  {
   "cell_type": "markdown",
   "metadata": {},
   "source": [
    "#### nn.Sequential\n",
    "  \n",
    "nn.Sequential is an ordered container of modules. \n",
    "순서가 있는 자료구조    \n",
    "The data is passed through all the modules in the same order as defined.   \n",
    "You can use sequential containers to put together a quick network like seq_modules.  "
   ]
  },
  {
   "cell_type": "code",
   "execution_count": 11,
   "metadata": {},
   "outputs": [],
   "source": [
    "seq_modules = nn.Sequential(\n",
    "    flatten,\n",
    "    layer1,\n",
    "    nn.ReLU(),\n",
    "    nn.Linear(20, 10)\n",
    ")\n",
    "input_image = torch.rand(3,28,28)\n",
    "logits = seq_modules(input_image)"
   ]
  },
  {
   "cell_type": "markdown",
   "metadata": {},
   "source": [
    "#### nn.Softmax\n",
    "  \n",
    "The last linear layer of the neural network returns logits - raw values in [-infty, infty] - which are passed to the nn.Softmax module.   \n",
    "The logits are scaled to values [0, 1] representing the model’s predicted probabilities for each class.   \n",
    "dim parameter indicates the dimension along which the values must sum to 1."
   ]
  },
  {
   "cell_type": "code",
   "execution_count": 12,
   "metadata": {},
   "outputs": [],
   "source": [
    "softmax = nn.Softmax(dim=1)\n",
    "pred_probab = softmax(logits)"
   ]
  },
  {
   "cell_type": "markdown",
   "metadata": {},
   "source": [
    "### Model Parameters\n",
    "  \n",
    "Many layers inside a neural network are parameterized, i.e. have associated weights and biases that are optimized during training.   \n",
    "Subclassing nn.Module automatically tracks all fields defined inside your model object, and makes all parameters accessible using your model’s parameters() or named_parameters() methods.  \n",
    "  \n",
    "In this example, we iterate over each parameter, and print its size and a preview of its values."
   ]
  },
  {
   "cell_type": "code",
   "execution_count": 13,
   "metadata": {},
   "outputs": [
    {
     "name": "stdout",
     "output_type": "stream",
     "text": [
      "Model structure: NeuralNetwork(\n",
      "  (flatten): Flatten(start_dim=1, end_dim=-1)\n",
      "  (linear_relu_stack): Sequential(\n",
      "    (0): Linear(in_features=784, out_features=512, bias=True)\n",
      "    (1): ReLU()\n",
      "    (2): Linear(in_features=512, out_features=512, bias=True)\n",
      "    (3): ReLU()\n",
      "    (4): Linear(in_features=512, out_features=10, bias=True)\n",
      "  )\n",
      ")\n",
      "\n",
      "\n",
      "Layer: linear_relu_stack.0.weight | Size: torch.Size([512, 784]) | Values : tensor([[-0.0213, -0.0237, -0.0108,  ..., -0.0021, -0.0182, -0.0299],\n",
      "        [-0.0206,  0.0113,  0.0107,  ...,  0.0220, -0.0348,  0.0211]],\n",
      "       grad_fn=<SliceBackward0>) \n",
      "\n",
      "Layer: linear_relu_stack.0.bias | Size: torch.Size([512]) | Values : tensor([-0.0320, -0.0091], grad_fn=<SliceBackward0>) \n",
      "\n",
      "Layer: linear_relu_stack.2.weight | Size: torch.Size([512, 512]) | Values : tensor([[ 0.0049, -0.0298,  0.0420,  ..., -0.0248,  0.0437,  0.0174],\n",
      "        [-0.0317,  0.0384,  0.0015,  ...,  0.0282, -0.0188,  0.0087]],\n",
      "       grad_fn=<SliceBackward0>) \n",
      "\n",
      "Layer: linear_relu_stack.2.bias | Size: torch.Size([512]) | Values : tensor([ 0.0006, -0.0087], grad_fn=<SliceBackward0>) \n",
      "\n",
      "Layer: linear_relu_stack.4.weight | Size: torch.Size([10, 512]) | Values : tensor([[ 0.0215,  0.0338, -0.0116,  ...,  0.0334, -0.0289, -0.0074],\n",
      "        [ 0.0051, -0.0275, -0.0380,  ..., -0.0303,  0.0211,  0.0174]],\n",
      "       grad_fn=<SliceBackward0>) \n",
      "\n",
      "Layer: linear_relu_stack.4.bias | Size: torch.Size([10]) | Values : tensor([ 0.0284, -0.0133], grad_fn=<SliceBackward0>) \n",
      "\n"
     ]
    }
   ],
   "source": [
    "print(f\"Model structure: {model}\\n\\n\")\n",
    "\n",
    "for name, param in model.named_parameters():\n",
    "    print(f\"Layer: {name} | Size: {param.size()} | Values : {param[:2]} \\n\")"
   ]
  }
 ],
 "metadata": {
  "kernelspec": {
   "display_name": "Python 3",
   "language": "python",
   "name": "python3"
  },
  "language_info": {
   "codemirror_mode": {
    "name": "ipython",
    "version": 3
   },
   "file_extension": ".py",
   "mimetype": "text/x-python",
   "name": "python",
   "nbconvert_exporter": "python",
   "pygments_lexer": "ipython3",
   "version": "3.10.1"
  }
 },
 "nbformat": 4,
 "nbformat_minor": 2
}
